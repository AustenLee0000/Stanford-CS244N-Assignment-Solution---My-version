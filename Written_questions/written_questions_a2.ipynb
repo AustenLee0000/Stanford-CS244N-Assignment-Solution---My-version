{
 "cells": [
  {
   "cell_type": "markdown",
   "metadata": {},
   "source": [
    "## Assignment 2 Written Questions"
   ]
  },
  {
   "cell_type": "markdown",
   "metadata": {},
   "source": [
    "##### (a)\n",
    "\n",
    "$$- \\displaystyle\\sum_{w \\in Vocab}~y_wlog(\\hat{y_w})= - \\displaystyle\\sum_{w \\in Vocab~and~y_w=1}~y_wlog(\\hat{y_w})=-log(\\hat{y_o})$$"
   ]
  },
  {
   "cell_type": "markdown",
   "metadata": {},
   "source": [
    "##### (b)\n",
    "\n",
    "$$\\frac{\\partial J_{naive-softmax}(v_c, o, U)}{\\partial v_c}=-u_o^T +\\sum_{w\\in Vocab}P(O=o|C=c) u_w$$\n"
   ]
  },
  {
   "cell_type": "markdown",
   "metadata": {},
   "source": [
    "##### (c)\n",
    "\n",
    "$$\\left. \\frac{\\partial J_{naive-softmax}(v_c, o, U)}{\\partial u}\\right|_{u=u_o} =v_c +P(O=o|C=c)v_c $$\n",
    "\n",
    "$$\\left. \\frac{\\partial J_{naive-softmax}(v_c, o, U)}{\\partial u}\\right|_{u\\neq u_o} = \\sum_{w\\in Vocab~and~w\\neq o} P(O=o|C=c)v_c $$"
   ]
  },
  {
   "cell_type": "markdown",
   "metadata": {},
   "source": [
    "##### (d)\n",
    "\n",
    "$$\\frac{\\partial \\sigma(x)}{\\partial x}=\\frac{\\sigma(x)}{e^x+1}$$\n"
   ]
  },
  {
   "cell_type": "markdown",
   "metadata": {},
   "source": [
    "##### (e)\n",
    "\n",
    "$$\\frac{\\partial J_{neg-sampling}(v_c, o, U)}{\\partial v_c}=- \\frac{u_o}{e^{u_o^Tv_c}+1}+\\displaystyle\\sum^{K}_{k=1} \\frac{u_k}{e^{-u_o^Tv_c}+1}$$\n",
    "\n",
    "$$\\left. \\frac{\\partial J_{neg-sampling}(v_c, o, U)}{\\partial u}\\right|_{u=u_o} =-\\frac{v_c}{e^{u_o^Tv_c}+1}$$\n",
    "\n",
    "$$\\left. \\frac{\\partial J_{neg-sampling}(v_c, o, U)}{\\partial u}\\right|_{u\\neq u_o} = \\displaystyle\\sum^{K}_{k=1}  \\frac{v_c}{e^{-u_o^Tv_c}+1}$$"
   ]
  },
  {
   "cell_type": "markdown",
   "metadata": {},
   "source": [
    "##### (f)\n",
    "\n",
    "$$\\frac{\\partial J_{skip-gram}(v_c, w_{t+j}, U)}{\\partial U} = \\displaystyle\\sum_{-m\\leq j \\leq m~j\\neq t} \\frac{\\partial J(v_c, w_{t+j}, U)}{\\partial U}$$\n",
    "\n",
    "$$\\frac{\\partial J_{skip-gram}(v_c, w_{t+j}, U)}{\\partial v_c} = \\displaystyle\\sum_{-m\\leq j \\leq m~j\\neq t} \\frac{\\partial J(v_c, w_{t+j}, U)}{\\partial v_c}$$\n",
    "\n",
    "$$\\left. \\frac{\\partial J_{skip-gram}(v_c, o, U)}{\\partial v_w}\\right|_{w\\neq c} =0$$"
   ]
  },
  {
   "cell_type": "markdown",
   "metadata": {},
   "source": [
    "#### Note \n",
    "\n",
    "I found that some parts of the markdowns will be missing if you view this file on github webpage. If necessary, please download it and view it locally."
   ]
  }
 ],
 "metadata": {
  "kernelspec": {
   "display_name": "Python 3",
   "language": "python",
   "name": "python3"
  },
  "language_info": {
   "codemirror_mode": {
    "name": "ipython",
    "version": 3
   },
   "file_extension": ".py",
   "mimetype": "text/x-python",
   "name": "python",
   "nbconvert_exporter": "python",
   "pygments_lexer": "ipython3",
   "version": "3.7.6"
  }
 },
 "nbformat": 4,
 "nbformat_minor": 4
}